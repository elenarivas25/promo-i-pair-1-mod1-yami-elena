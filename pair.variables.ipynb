{
 "cells": [
  {
   "cell_type": "markdown",
   "metadata": {},
   "source": [
    "## tres variables numéricas tipo int"
   ]
  },
  {
   "cell_type": "code",
   "execution_count": 2,
   "metadata": {},
   "outputs": [],
   "source": [
    "numero_1 = 1\n",
    "numero_2 = 2\n",
    "numero_3 = 3"
   ]
  },
  {
   "cell_type": "markdown",
   "metadata": {},
   "source": [
    "## Operadores lógicos"
   ]
  },
  {
   "cell_type": "code",
   "execution_count": 3,
   "metadata": {},
   "outputs": [
    {
     "name": "stdout",
     "output_type": "stream",
     "text": [
      "es el numero_1 mayor que el numero_2? False\n",
      "es el numero_1 menor que el numero_2 pero mayor que el numero_3? True False\n",
      "es el numero_3 igual que e numero_2? False\n",
      "es el numero_2 distinto que el numero_1 True\n"
     ]
    }
   ],
   "source": [
    "print('es el numero_1 mayor que el numero_2?' , numero_1 > numero_2)\n",
    "print('es el numero_1 menor que el numero_2 pero mayor que el numero_3?' , numero_1 < numero_2 , numero_1 > numero_3)\n",
    "print('es el numero_3 igual que e numero_2?' , numero_3 == numero_2)\n",
    "print('es el numero_2 distinto que el numero_1' , numero_2 != numero_1)"
   ]
  },
  {
   "cell_type": "markdown",
   "metadata": {},
   "source": [
    "## Float"
   ]
  },
  {
   "cell_type": "code",
   "execution_count": 6,
   "metadata": {},
   "outputs": [
    {
     "name": "stdout",
     "output_type": "stream",
     "text": [
      "4.99\n",
      "1.5299999999999998\n",
      "0.0\n",
      "1.73\n",
      "0.5\n"
     ]
    }
   ],
   "source": [
    "altura1 = 1.73\n",
    "altura2 = 3.26\n",
    "print(altura1 + altura2)\n",
    "print(altura2 - altura1)\n",
    "print(altura1 // altura2)\n",
    "print(altura1 % altura2)\n",
    "altura3 = round(altura1 / altura2 , 1)\n",
    "print(altura3)"
   ]
  },
  {
   "cell_type": "markdown",
   "metadata": {},
   "source": [
    "## Input"
   ]
  },
  {
   "cell_type": "code",
   "execution_count": 12,
   "metadata": {},
   "outputs": [
    {
     "name": "stdout",
     "output_type": "stream",
     "text": [
      "YAMI ANDRÉS CLAVO\n",
      "yami andrés clavo\n",
      "Yami Andrés clavo\n",
      "Yami Andrés Clavo\n",
      "Yami andrés clavo\n"
     ]
    }
   ],
   "source": [
    "nombre = input()\n",
    "apellidos = input()\n",
    "print(nombre.upper() + ' ' + apellidos.upper())\n",
    "print(nombre.lower() + ' ' + apellidos.lower())\n",
    "print(nombre.capitalize() + ' ' + apellidos.capitalize())\n",
    "print(nombre.title() + ' ' + apellidos.title())\n",
    "print(nombre.capitalize() + ' ' + apellidos.lower())"
   ]
  },
  {
   "cell_type": "markdown",
   "metadata": {},
   "source": [
    "## input"
   ]
  },
  {
   "cell_type": "code",
   "execution_count": 20,
   "metadata": {},
   "outputs": [
    {
     "name": "stdout",
     "output_type": "stream",
     "text": [
      "Pepe\n",
      "Pepe\n",
      "Como se llama tu padre? Pepe\n",
      "Dime una vocal a\n",
      "A\n"
     ]
    }
   ],
   "source": [
    "#DUDAS\n",
    "respuesta = input()\n",
    "print(respuesta)\n",
    "respuesta1 = respuesta\n",
    "print(respuesta1)\n",
    "print('Como se llama tu padre?', respuesta1)\n",
    "\n",
    "\n"
   ]
  },
  {
   "cell_type": "code",
   "execution_count": 21,
   "metadata": {},
   "outputs": [
    {
     "name": "stdout",
     "output_type": "stream",
     "text": [
      "Dime una vocal a\n",
      "A\n"
     ]
    }
   ],
   "source": [
    "vocal = input()\n",
    "vocal1 = vocal\n",
    "print('Dime una vocal' , vocal1)\n",
    "print(vocal1.upper())"
   ]
  },
  {
   "cell_type": "code",
   "execution_count": 25,
   "metadata": {},
   "outputs": [
    {
     "name": "stdout",
     "output_type": "stream",
     "text": [
      "¿Qué necesitas comprar? pera, manzana, platano\n",
      "pera, manzana, platano\n"
     ]
    }
   ],
   "source": [
    "lista_compra = input()\n",
    "print('¿Qué necesitas comprar?' , lista_compra)\n",
    "resultado_input = lista_compra\n",
    "print(resultado_input)"
   ]
  }
 ],
 "metadata": {
  "kernelspec": {
   "display_name": "Python 3",
   "language": "python",
   "name": "python3"
  },
  "language_info": {
   "codemirror_mode": {
    "name": "ipython",
    "version": 3
   },
   "file_extension": ".py",
   "mimetype": "text/x-python",
   "name": "python",
   "nbconvert_exporter": "python",
   "pygments_lexer": "ipython3",
   "version": "3.9.7"
  }
 },
 "nbformat": 4,
 "nbformat_minor": 2
}
