{
 "cells": [
  {
   "cell_type": "markdown",
   "metadata": {},
   "source": [
    "## Ejercicios if - else"
   ]
  },
  {
   "cell_type": "code",
   "execution_count": 9,
   "metadata": {},
   "outputs": [
    {
     "name": "stdout",
     "output_type": "stream",
     "text": [
      "Es un número positivo\n"
     ]
    }
   ],
   "source": [
    "\n",
    "# Verificar si un número es positivo, negativo o cero\n",
    "\n",
    "numero = 8\n",
    "\n",
    "if numero >= 1:\n",
    "    print('Es un número positivo')\n",
    "\n",
    "elif numero <= -1:\n",
    "    print('Es un número negativo')\n",
    "\n",
    "else:\n",
    "    print('El número es 0')"
   ]
  },
  {
   "cell_type": "code",
   "execution_count": 16,
   "metadata": {},
   "outputs": [
    {
     "name": "stdout",
     "output_type": "stream",
     "text": [
      "es un número impar\n"
     ]
    }
   ],
   "source": [
    "# Verificar si un número es par o impar\n",
    "numero1 = 3\n",
    "if numero1%2 == 0:\n",
    "    print('Es un número par')\n",
    "\n",
    "else:\n",
    "    print('es un número impar')\n"
   ]
  },
  {
   "cell_type": "code",
   "execution_count": 18,
   "metadata": {},
   "outputs": [
    {
     "name": "stdout",
     "output_type": "stream",
     "text": [
      "Has suspendido\n"
     ]
    }
   ],
   "source": [
    "# Verificar si un estudiante aprobó o suspendió un examen\n",
    "\n",
    "nota = int(input('¿Cuál es la nota? ->'))\n",
    "\n",
    "if nota >= 60:\n",
    "    print('Has aprobado')\n",
    "\n",
    "else:\n",
    "    print('Has suspendido')"
   ]
  },
  {
   "cell_type": "code",
   "execution_count": 19,
   "metadata": {},
   "outputs": [
    {
     "name": "stdout",
     "output_type": "stream",
     "text": [
      "8 Es el mayor\n"
     ]
    }
   ],
   "source": [
    "# Calcular el máximo entre dos números\n",
    "\n",
    "numero3 = 3\n",
    "numero4 = 8\n",
    "\n",
    "if numero3 > numero4:\n",
    "    print(numero3 , 'Es el mayor')\n",
    "\n",
    "else:\n",
    "    print(numero4, 'Es el mayor')\n"
   ]
  },
  {
   "cell_type": "code",
   "execution_count": 25,
   "metadata": {},
   "outputs": [
    {
     "name": "stdout",
     "output_type": "stream",
     "text": [
      "Es una consonante\n"
     ]
    }
   ],
   "source": [
    "# Verificar si una letra es una vocal o una consonante\n",
    "vocal = ('aeiou')\n",
    "consonante = ('bcdfghjklmnñpqrstvwxyz')\n",
    "\n",
    "letra = input('Dime una letra')\n",
    "\n",
    "if letra in vocal:\n",
    "    print('Es una vocal')\n",
    "\n",
    "elif letra in consonante:\n",
    "    print('Es una consonante')\n",
    "\n",
    "else:\n",
    "    print('Prueba otra vez')\n",
    "\n",
    "\n"
   ]
  },
  {
   "cell_type": "code",
   "execution_count": 26,
   "metadata": {},
   "outputs": [
    {
     "name": "stdout",
     "output_type": "stream",
     "text": [
      "El precio de tu compra es -> 94.5\n"
     ]
    }
   ],
   "source": [
    "# Calcular el descuento en una compra según el monto total\n",
    "ticket = int(input('¿Cuanto te ha costado la compra'))\n",
    "\n",
    "if ticket >= 100:\n",
    "    print('El precio de tu compra es ->' ,ticket -((ticket * 10) / 100))\n",
    "\n",
    "else:\n",
    "    print('El precio de tu compra es ->' , ticket)\n"
   ]
  },
  {
   "cell_type": "code",
   "execution_count": 34,
   "metadata": {},
   "outputs": [
    {
     "name": "stdout",
     "output_type": "stream",
     "text": [
      "2028 Es un año bisiesto\n"
     ]
    }
   ],
   "source": [
    "# Verificar si un año es bisiesto o no\n",
    "\n",
    "año = int(input('¿En que año estamos?'))\n",
    "\n",
    "if año % 4 == 0 and (año % 100 != 0 or año % 400 == 0):\n",
    "    print(año, 'Es un año bisiesto')\n",
    "\n",
    "\n",
    "else:\n",
    "    print(año, 'no es un año bisiesto')\n"
   ]
  },
  {
   "cell_type": "code",
   "execution_count": 43,
   "metadata": {},
   "outputs": [
    {
     "name": "stdout",
     "output_type": "stream",
     "text": [
      "Es adulto\n"
     ]
    }
   ],
   "source": [
    "# Asignar una categoría a una edad\n",
    "\n",
    "edad = int(input('¿Cuantos años tienes?'))\n",
    "\n",
    "if edad < 18:\n",
    "    print('Menor de edad')\n",
    "elif edad >= 18 and edad <= 64:\n",
    "    print('Es adulto')\n",
    "else:\n",
    "    print('Es adulto mayor')\n"
   ]
  }
 ],
 "metadata": {
  "kernelspec": {
   "display_name": "base",
   "language": "python",
   "name": "python3"
  },
  "language_info": {
   "codemirror_mode": {
    "name": "ipython",
    "version": 3
   },
   "file_extension": ".py",
   "mimetype": "text/x-python",
   "name": "python",
   "nbconvert_exporter": "python",
   "pygments_lexer": "ipython3",
   "version": "3.9.7"
  }
 },
 "nbformat": 4,
 "nbformat_minor": 2
}
